{
  "nbformat": 4,
  "nbformat_minor": 0,
  "metadata": {
    "colab": {
      "provenance": []
    },
    "kernelspec": {
      "name": "python3",
      "display_name": "Python 3"
    },
    "language_info": {
      "name": "python"
    }
  },
  "cells": [
    {
      "cell_type": "code",
      "source": [
        "!pip install pillow pytesseract"
      ],
      "metadata": {
        "colab": {
          "base_uri": "https://localhost:8080/"
        },
        "id": "5rtRa0OmV3xJ",
        "outputId": "1a2e0cb5-2968-439f-e88f-f316cf7169e5"
      },
      "execution_count": null,
      "outputs": [
        {
          "output_type": "stream",
          "name": "stdout",
          "text": [
            "Requirement already satisfied: pillow in /usr/local/lib/python3.10/dist-packages (9.4.0)\n",
            "Collecting pytesseract\n",
            "  Downloading pytesseract-0.3.10-py3-none-any.whl (14 kB)\n",
            "Requirement already satisfied: packaging>=21.3 in /usr/local/lib/python3.10/dist-packages (from pytesseract) (23.1)\n",
            "Installing collected packages: pytesseract\n",
            "Successfully installed pytesseract-0.3.10\n"
          ]
        }
      ]
    },
    {
      "cell_type": "code",
      "source": [
        "!apt-get install -y tesseract-ocr\n"
      ],
      "metadata": {
        "colab": {
          "base_uri": "https://localhost:8080/"
        },
        "id": "a-xaeQQGXFLF",
        "outputId": "3ddafe85-334c-4b9a-d3ff-e19a2fbc3462"
      },
      "execution_count": null,
      "outputs": [
        {
          "output_type": "stream",
          "name": "stdout",
          "text": [
            "Reading package lists... Done\n",
            "Building dependency tree... Done\n",
            "Reading state information... Done\n",
            "The following additional packages will be installed:\n",
            "  tesseract-ocr-eng tesseract-ocr-osd\n",
            "The following NEW packages will be installed:\n",
            "  tesseract-ocr tesseract-ocr-eng tesseract-ocr-osd\n",
            "0 upgraded, 3 newly installed, 0 to remove and 16 not upgraded.\n",
            "Need to get 4,816 kB of archives.\n",
            "After this operation, 15.6 MB of additional disk space will be used.\n",
            "Get:1 http://archive.ubuntu.com/ubuntu jammy/universe amd64 tesseract-ocr-eng all 1:4.00~git30-7274cfa-1.1 [1,591 kB]\n",
            "Get:2 http://archive.ubuntu.com/ubuntu jammy/universe amd64 tesseract-ocr-osd all 1:4.00~git30-7274cfa-1.1 [2,990 kB]\n",
            "Get:3 http://archive.ubuntu.com/ubuntu jammy/universe amd64 tesseract-ocr amd64 4.1.1-2.1build1 [236 kB]\n",
            "Fetched 4,816 kB in 1s (4,808 kB/s)\n",
            "Selecting previously unselected package tesseract-ocr-eng.\n",
            "(Reading database ... 120831 files and directories currently installed.)\n",
            "Preparing to unpack .../tesseract-ocr-eng_1%3a4.00~git30-7274cfa-1.1_all.deb ...\n",
            "Unpacking tesseract-ocr-eng (1:4.00~git30-7274cfa-1.1) ...\n",
            "Selecting previously unselected package tesseract-ocr-osd.\n",
            "Preparing to unpack .../tesseract-ocr-osd_1%3a4.00~git30-7274cfa-1.1_all.deb ...\n",
            "Unpacking tesseract-ocr-osd (1:4.00~git30-7274cfa-1.1) ...\n",
            "Selecting previously unselected package tesseract-ocr.\n",
            "Preparing to unpack .../tesseract-ocr_4.1.1-2.1build1_amd64.deb ...\n",
            "Unpacking tesseract-ocr (4.1.1-2.1build1) ...\n",
            "Setting up tesseract-ocr-eng (1:4.00~git30-7274cfa-1.1) ...\n",
            "Setting up tesseract-ocr-osd (1:4.00~git30-7274cfa-1.1) ...\n",
            "Setting up tesseract-ocr (4.1.1-2.1build1) ...\n",
            "Processing triggers for man-db (2.10.2-1) ...\n"
          ]
        }
      ]
    },
    {
      "cell_type": "code",
      "source": [
        "# Install the required Python libraries for text recognition from images.\n",
        "!pip install pillow pytesseract\n",
        "\n",
        "# Install Tesseract OCR engine to enable text recognition.\n",
        "!apt-get install -y tesseract-ocr\n",
        "\n",
        "# Import necessary modules for the script.\n",
        "import pytesseract  # This library provides an interface to Tesseract OCR.\n",
        "from PIL import Image  # PIL (Python Imaging Library) is used for working with images.\n",
        "\n",
        "# Specify the path to the image you want to process.\n",
        "image_path = \"/content/answer sheet.jpeg\"\n",
        "\n",
        "# Open the image using PIL's Image module.\n",
        "image = Image.open(image_path)\n",
        "\n",
        "# Use Tesseract OCR to extract text from the image.\n",
        "text = pytesseract.image_to_string(image)\n",
        "\n",
        "# Print the extracted text.\n",
        "print(text)"
      ],
      "metadata": {
        "colab": {
          "base_uri": "https://localhost:8080/"
        },
        "id": "D5I-SmE8Ltym",
        "outputId": "5d3f4003-acfc-47a7-c5fb-68fa4e646ab1"
      },
      "execution_count": null,
      "outputs": [
        {
          "output_type": "stream",
          "name": "stdout",
          "text": [
            "Requirement already satisfied: pillow in /usr/local/lib/python3.10/dist-packages (9.4.0)\n",
            "Collecting pytesseract\n",
            "  Downloading pytesseract-0.3.10-py3-none-any.whl (14 kB)\n",
            "Requirement already satisfied: packaging>=21.3 in /usr/local/lib/python3.10/dist-packages (from pytesseract) (23.1)\n",
            "Installing collected packages: pytesseract\n",
            "Successfully installed pytesseract-0.3.10\n",
            "Reading package lists... Done\n",
            "Building dependency tree... Done\n",
            "Reading state information... Done\n",
            "The following additional packages will be installed:\n",
            "  tesseract-ocr-eng tesseract-ocr-osd\n",
            "The following NEW packages will be installed:\n",
            "  tesseract-ocr tesseract-ocr-eng tesseract-ocr-osd\n",
            "0 upgraded, 3 newly installed, 0 to remove and 16 not upgraded.\n",
            "Need to get 4,816 kB of archives.\n",
            "After this operation, 15.6 MB of additional disk space will be used.\n",
            "Get:1 http://archive.ubuntu.com/ubuntu jammy/universe amd64 tesseract-ocr-eng all 1:4.00~git30-7274cfa-1.1 [1,591 kB]\n",
            "Get:2 http://archive.ubuntu.com/ubuntu jammy/universe amd64 tesseract-ocr-osd all 1:4.00~git30-7274cfa-1.1 [2,990 kB]\n",
            "Get:3 http://archive.ubuntu.com/ubuntu jammy/universe amd64 tesseract-ocr amd64 4.1.1-2.1build1 [236 kB]\n",
            "Fetched 4,816 kB in 0s (12.3 MB/s)\n",
            "Selecting previously unselected package tesseract-ocr-eng.\n",
            "(Reading database ... 120831 files and directories currently installed.)\n",
            "Preparing to unpack .../tesseract-ocr-eng_1%3a4.00~git30-7274cfa-1.1_all.deb ...\n",
            "Unpacking tesseract-ocr-eng (1:4.00~git30-7274cfa-1.1) ...\n",
            "Selecting previously unselected package tesseract-ocr-osd.\n",
            "Preparing to unpack .../tesseract-ocr-osd_1%3a4.00~git30-7274cfa-1.1_all.deb ...\n",
            "Unpacking tesseract-ocr-osd (1:4.00~git30-7274cfa-1.1) ...\n",
            "Selecting previously unselected package tesseract-ocr.\n",
            "Preparing to unpack .../tesseract-ocr_4.1.1-2.1build1_amd64.deb ...\n",
            "Unpacking tesseract-ocr (4.1.1-2.1build1) ...\n",
            "Setting up tesseract-ocr-eng (1:4.00~git30-7274cfa-1.1) ...\n",
            "Setting up tesseract-ocr-osd (1:4.00~git30-7274cfa-1.1) ...\n",
            "Setting up tesseract-ocr (4.1.1-2.1build1) ...\n",
            "Processing triggers for man-db (2.10.2-1) ...\n",
            "Fill\n",
            "\n",
            " \n",
            "\n",
            "in the blanks\n",
            "\n",
            ". Elon Musk tweeted that his electric vehicle-making company\n",
            "Tesla will not accept payments in_@9S1 because of\n",
            "environmental concerns.\n",
            "\n",
            ". After Elon Musk's tweet about Tesla's decision, the ans2\n",
            "hit a two-month low.\n",
            "\n",
            ". Elon Musk stated that he was working with developers of\n",
            "€NS3 to improve system transaction efficiency.\n",
            "\n",
            "Following Musk's tweet, _as4- rallied by about 20 percent.\n",
            "\n",
            ". In a recent tweet, Elon Musk mentioned that Tesla was\n",
            "\n",
            "concerned about the rapidly increasing use of fossil fuels for\n",
            "ans5_ mining and transaction.\n",
            "\n",
            "Elon Musk's tweet caused a_8MS6 for Bitcoin value.\n",
            "\n",
            ". The cryptocurrency has _ans7_ since the downward spiral\n",
            "\n",
            "triggered by Elon Musk's tweet.\n",
            "\n",
            "Anumber of _ans8_welcomed Musk's statement.\n",
            "\n",
            ". One Twitter user stated that it's time people started realising\n",
            "that 2NS9 jg here to stay.\n",
            "\n",
            "10. Another Twitter user referred to Musk's previous assertion\n",
            "\n",
            "that crypto could become the world's future ans10_\n",
            "\n",
            "11. Elon Musk is known for often tweeting in support of\n",
            "\n",
            "ans\n",
            "\n",
            "12. Elon Musk has shown he can influence the digital\n",
            "\n",
            "currency market with just his_ans12.\n",
            "\n",
            "13. Musk emphasized in a tweet that he strongly believes in\n",
            "\n",
            "ans13_\n",
            "\n",
            "14. Elon Musk mentioned in a tweet that crypto can't drive a\n",
            "\n",
            "massive increase in fossil fuel use, especially _@9S14,\n",
            "\n",
            "15. Elon Musk announced in a tweet that Tesla was\n",
            "\n",
            "suspending vehicle purchases using ans15.\n",
            "\n",
            "nv\n",
            "\n",
            "&\n",
            "\n",
            "&\n",
            "\n",
            " \n",
            "\n",
            "a\n",
            "\n",
            "es\n",
            "\n",
            " \n",
            "\n",
            "~\n",
            "\n",
            "2\n",
            "\n",
            " \n",
            "\n",
            "©\n",
            "\n",
            " \n",
            "\n",
            " \n",
            "\n",
            " \n",
            "\n",
            " \n",
            "\f\n"
          ]
        }
      ]
    },
    {
      "cell_type": "code",
      "source": [],
      "metadata": {
        "id": "nBsO99bbL02G"
      },
      "execution_count": null,
      "outputs": []
    }
  ]
}